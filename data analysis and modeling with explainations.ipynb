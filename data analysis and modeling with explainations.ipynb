{
 "cells": [
  {
   "cell_type": "markdown",
   "id": "6be413cf",
   "metadata": {},
   "source": [
    "# Exploratory analysis of the data"
   ]
  },
  {
   "cell_type": "markdown",
   "id": "f5542fd6",
   "metadata": {},
   "source": [
    "## Understanding the training data set\n",
    "\n",
    "Before we conduct cleaning and any meaningful exploratory analysis of the data, we first need to understand the structure of the data set."
   ]
  },
  {
   "cell_type": "code",
   "execution_count": 1,
   "id": "5ce2b000",
   "metadata": {},
   "outputs": [
    {
     "name": "stdout",
     "output_type": "stream",
     "text": [
      "   COMMENT_ID             AUTHOR                     DATE  \\\n",
      "0           1      Brandon Pryor      2014-01-19 00:36:25   \n",
      "1           2        Chelsea Yun  2015-05-23 07:17:09.691   \n",
      "2           3  Sofia Aristizabal      2014-09-09 00:43:52   \n",
      "3           4     said abdesalam  2015-05-24 07:35:13.754   \n",
      "4           5         crazy girl  2015-05-23 23:26:05.305   \n",
      "\n",
      "                                             CONTENT  \\\n",
      "0  I dont even watch it anymore i just come here ...   \n",
      "1                                        i hate rap﻿   \n",
      "2        I loved, she is amazing.. OMG your eyes*_*﻿   \n",
      "3                                       song is bad﻿   \n",
      "4                                       tension⤴︎⤴︎﻿   \n",
      "\n",
      "                                          VIDEO_NAME  CLASS  \n",
      "0                     PSY - GANGNAM STYLE(?????) M/V      0  \n",
      "1          Eminem - Love The Way You Lie ft. Rihanna      0  \n",
      "2                                  Katy Perry - Roar      0  \n",
      "3          Eminem - Love The Way You Lie ft. Rihanna      0  \n",
      "4  LMFAO - Party Rock Anthem ft. Lauren Bennett, ...      0  \n"
     ]
    }
   ],
   "source": [
    "# Loading the necessary module\n",
    "import pandas as pd\n",
    "\n",
    "# Reading the Youtube Spam data\n",
    "pre_data = pd.read_csv('train.csv')\n",
    "\n",
    "# Display first 5 rows of the data\n",
    "print(pre_data.head())"
   ]
  },
  {
   "cell_type": "code",
   "execution_count": 2,
   "id": "821da4c3",
   "metadata": {},
   "outputs": [
    {
     "name": "stdout",
     "output_type": "stream",
     "text": [
      "Colume name: COMMENT_ID\n",
      "Colume name: AUTHOR\n",
      "Colume name: DATE\n",
      "Colume name: CONTENT\n",
      "Colume name: VIDEO_NAME\n",
      "Colume name: CLASS\n"
     ]
    }
   ],
   "source": [
    "# Show the names of the columns\n",
    "colnam = pre_data.columns\n",
    "\n",
    "for x in colnam:\n",
    "    print(f'Colume name: {x}')"
   ]
  },
  {
   "cell_type": "code",
   "execution_count": 3,
   "id": "661f2ae4",
   "metadata": {},
   "outputs": [
    {
     "data": {
      "text/plain": [
       "(1369, 6)"
      ]
     },
     "execution_count": 3,
     "metadata": {},
     "output_type": "execute_result"
    }
   ],
   "source": [
    "# Show the dimensions of the data\n",
    "pre_data.shape"
   ]
  },
  {
   "cell_type": "markdown",
   "id": "a8100dec",
   "metadata": {},
   "source": [
    "From the coding above, we see that:\n",
    "- The Youtube spam comment data set has a total of 1369 number of rows, and 6 columns.\n",
    "- The columns are COMMENT_ID, AUTHOR, DATE, CONTENT, VIDEO_NAME, and CLASS.\n",
    "\n",
    "Specially:\n",
    "1. COMMENT_ID is simply a tracking variable.\n",
    "2. AUTHOR means the Youtube name of the comment contributor.\n",
    "3. DATE means the data of the posted comment. It is in a format of Year-Month-Day + time up to seconds.\n",
    "4. CONTENT is the comment posted.\n",
    "5. CLASS calssify whether this comment is a spam or not with 0 or 1.\n"
   ]
  },
  {
   "cell_type": "markdown",
   "id": "9b127ca4",
   "metadata": {},
   "source": [
    "## Checking for NAs and duplicates in the data"
   ]
  },
  {
   "cell_type": "code",
   "execution_count": 4,
   "id": "3f019344",
   "metadata": {},
   "outputs": [
    {
     "name": "stdout",
     "output_type": "stream",
     "text": [
      "The number of NAs in the data set categorized by columns are: \n",
      " COMMENT_ID      0\n",
      "AUTHOR          0\n",
      "DATE          170\n",
      "CONTENT         0\n",
      "VIDEO_NAME      0\n",
      "CLASS           0\n",
      "dtype: int64\n"
     ]
    }
   ],
   "source": [
    "# Count the number of NAs in each columns\n",
    "print('The number of NAs in the data set categorized by columns are: \\n', pre_data.isnull().sum())"
   ]
  },
  {
   "cell_type": "code",
   "execution_count": 5,
   "id": "f387e814",
   "metadata": {},
   "outputs": [
    {
     "name": "stdout",
     "output_type": "stream",
     "text": [
      "The total number of duplicated rows in the data set is: 0\n"
     ]
    }
   ],
   "source": [
    "# Count the number of duplicated rows\n",
    "print('The total number of duplicated rows in the data set is:', pre_data.duplicated().sum())"
   ]
  },
  {
   "cell_type": "markdown",
   "id": "4376ca19",
   "metadata": {},
   "source": [
    "As we see from the results above, we do not have duplicated values. For any columns besides DATE, there are no NA values. We will discuess whether we will clean the data in detail in the feature selection section."
   ]
  },
  {
   "cell_type": "markdown",
   "id": "f760996d",
   "metadata": {},
   "source": [
    "## Explore the data set"
   ]
  },
  {
   "cell_type": "markdown",
   "id": "9d46bfa3",
   "metadata": {},
   "source": [
    "Notice that since COMMENT_ID is only a tracking variable, we will not explore this column."
   ]
  },
  {
   "cell_type": "markdown",
   "id": "ad2d0c25",
   "metadata": {},
   "source": [
    "### Exploring AUTHOR"
   ]
  },
  {
   "cell_type": "code",
   "execution_count": 6,
   "id": "77ed0ef8",
   "metadata": {},
   "outputs": [
    {
     "data": {
      "text/plain": [
       "1267"
      ]
     },
     "execution_count": 6,
     "metadata": {},
     "output_type": "execute_result"
    }
   ],
   "source": [
    "# Count the number of unique contributors in the data set\n",
    "pre_data['AUTHOR'].nunique()"
   ]
  },
  {
   "cell_type": "code",
   "execution_count": 7,
   "id": "fcd330a9",
   "metadata": {},
   "outputs": [
    {
     "name": "stdout",
     "output_type": "stream",
     "text": [
      "Louis Bryant: 7\n",
      "M.E.S: 7\n",
      "Shadrach Grentz: 6\n",
      "DanteBTV: 5\n",
      "Laura Brown: 4\n"
     ]
    }
   ],
   "source": [
    "# Loading the necessary module\n",
    "from collections import Counter\n",
    "\n",
    "# Count the top 5 most dedicated contributors\n",
    "top_5_author = Counter(pre_data['AUTHOR']).most_common(5)\n",
    "\n",
    "for x in top_5_author:\n",
    "    print(f'{x[0]}: {x[1]}')"
   ]
  },
  {
   "cell_type": "code",
   "execution_count": 8,
   "id": "ada68b0f",
   "metadata": {},
   "outputs": [
    {
     "data": {
      "image/png": "[encoded data removed]",
      "text/plain": [
       "<Figure size 640x480 with 1 Axes>"
      ]
     },
     "metadata": {},
     "output_type": "display_data"
    }
   ],
   "source": [
    "# Loading the necessary module\n",
    "import matplotlib.pyplot as plt \n",
    "\n",
    "# Visualize top 5 most common contributors in the data set\n",
    "name = [x[0] for x in top_5_author]\n",
    "count = [x[1] for x in top_5_author]\n",
    "\n",
    "plt.bar(name, count, width = 0.4)\n",
    "\n",
    "plt.xlabel('Authors')\n",
    "plt.ylabel('Number of contributions')\n",
    "plt.title('Top 5 most common contributors')\n",
    "\n",
    "plt.show()\n"
   ]
  },
  {
   "cell_type": "markdown",
   "id": "5322d0d6",
   "metadata": {},
   "source": [
    "There are a total of 1267 unique authors in the data set. And we have top 5 contributors as:\n",
    "1. Louis Bryant with 7 contributions.\n",
    "2. M.E.S with 7 contributions.\n",
    "3. Shadrach Grentz with 6 contributions.\n",
    "4. DanteBTV with 5 contributions.\n",
    "5. Laura Brown with 4 contributions."
   ]
  },
  {
   "cell_type": "markdown",
   "id": "b6918e82",
   "metadata": {},
   "source": [
    "We can also explore who are the top 5 most common authors to spam comments:"
   ]
  },
  {
   "cell_type": "code",
   "execution_count": 9,
   "id": "380ce658",
   "metadata": {},
   "outputs": [
    {
     "name": "stdout",
     "output_type": "stream",
     "text": [
      "Louis Bryant: 7\n",
      "M.E.S: 7\n",
      "Shadrach Grentz: 6\n",
      "DanteBTV: 5\n",
      "Laura Brown: 4\n"
     ]
    }
   ],
   "source": [
    "filtered_data = pre_data[pre_data['CLASS'] == 1]\n",
    "\n",
    "top_5_spammer = Counter(filtered_data['AUTHOR']).most_common(5)\n",
    "\n",
    "for x in top_5_spammer:\n",
    "    print(f'{x[0]}: {x[1]}')"
   ]
  },
  {
   "cell_type": "code",
   "execution_count": 10,
   "id": "9642f279",
   "metadata": {},
   "outputs": [
    {
     "data": {
      "image/png": "[encoded data removed]",
      "text/plain": [
       "<Figure size 640x480 with 1 Axes>"
      ]
     },
     "metadata": {},
     "output_type": "display_data"
    }
   ],
   "source": [
    "# Visualize top 5 spammers in the data set\n",
    "name = [x[0] for x in top_5_spammer]\n",
    "count = [x[1] for x in top_5_spammer]\n",
    "\n",
    "plt.bar(name, count, width = 0.4)\n",
    "\n",
    "plt.xlabel('Authors')\n",
    "plt.ylabel('Number of contributions')\n",
    "plt.title('Top 5 spammer')\n",
    "\n",
    "plt.show()"
   ]
  },
  {
   "cell_type": "markdown",
   "id": "a32777ba",
   "metadata": {},
   "source": [
    "Surprisingly, we see that the top 5 spammers are the same as the top 5 general contributors. This is very interesting."
   ]
  },
  {
   "cell_type": "markdown",
   "id": "cd4c04e8",
   "metadata": {},
   "source": [
    "### Exploring CONTENT with respect to spam comments"
   ]
  },
  {
   "cell_type": "markdown",
   "id": "c5145f56",
   "metadata": {},
   "source": [
    "Since we are building the model to detect spam comment, we need to investigate the underlying language structure of each comment. \n",
    "\n",
    "Intuitively, spam comments can have some commonly used words and punctutations. Spam comments may also disportionally contain URLs and emojis comparing with the non-spam comments.\n",
    "\n",
    "We will investigate these features.\n",
    "\n"
   ]
  },
  {
   "cell_type": "code",
   "execution_count": 11,
   "id": "632526d3",
   "metadata": {},
   "outputs": [
    {
     "name": "stdout",
     "output_type": "stream",
     "text": [
      "The number of comments containing URLs is: 137\n"
     ]
    }
   ],
   "source": [
    "# Load nessary module\n",
    "import re\n",
    "\n",
    "# A function to see if a comment contains URL\n",
    "def contains_url(comment):\n",
    "    pattern = r'http[s]?://\\S+|www\\.\\S+'\n",
    "    return bool(re.search(pattern, comment))\n",
    "\n",
    "pre_data['Contains_url'] = pre_data['CONTENT'].apply(contains_url)\n",
    "\n",
    "num_urls = pre_data['Contains_url'].sum()\n",
    "\n",
    "print(f'The number of comments containing URLs is: {num_urls}')"
   ]
  },
  {
   "cell_type": "code",
   "execution_count": 12,
   "id": "7a4a57d4",
   "metadata": {},
   "outputs": [
    {
     "name": "stdout",
     "output_type": "stream",
     "text": [
      "The proposition of spam comments containing a URL is: 94.8905109489051%\n"
     ]
    }
   ],
   "source": [
    "url_spam = pre_data[(pre_data['CLASS'] == 1) & (pre_data['Contains_url'] == True)]\n",
    "\n",
    "prop_url_spam = len(url_spam) / num_urls * 100\n",
    "\n",
    "print(f'The proposition of spam comments containing a URL is: {prop_url_spam}%')"
   ]
  },
  {
   "cell_type": "markdown",
   "id": "22f16af3",
   "metadata": {},
   "source": [
    "We can see that as long as the comment is a spam, it is very likely to contain a URL."
   ]
  },
  {
   "cell_type": "code",
   "execution_count": 13,
   "id": "731f2228",
   "metadata": {},
   "outputs": [
    {
     "name": "stdout",
     "output_type": "stream",
     "text": [
      "Requirement already satisfied: emoji in /opt/conda/lib/python3.11/site-packages (2.14.0)\r\n"
     ]
    }
   ],
   "source": [
    "!pip install emoji"
   ]
  },
  {
   "cell_type": "code",
   "execution_count": 14,
   "id": "0534f45e",
   "metadata": {},
   "outputs": [
    {
     "name": "stdout",
     "output_type": "stream",
     "text": [
      "The number of comments containing emoji is: 36\n"
     ]
    }
   ],
   "source": [
    "# Load necessary module\n",
    "import emoji\n",
    "\n",
    "# Function to check if a comment contains emojis\n",
    "def contains_emoji(comment):\n",
    "    return bool(emoji.emoji_count(comment))\n",
    "\n",
    "pre_data['Contains_emo'] = pre_data['CONTENT'].apply(contains_emoji)\n",
    "\n",
    "num_emo = pre_data['Contains_emo'].sum()\n",
    "\n",
    "print(f'The number of comments containing emoji is: {num_emo}')"
   ]
  },
  {
   "cell_type": "code",
   "execution_count": 15,
   "id": "ebb41fe7",
   "metadata": {},
   "outputs": [
    {
     "name": "stdout",
     "output_type": "stream",
     "text": [
      "The proposition of spam comments containing emoji is: 30.555555555555557%\n"
     ]
    }
   ],
   "source": [
    "emo_spam = pre_data[(pre_data['CLASS'] == 1) & (pre_data['Contains_emo'] == True)]\n",
    "\n",
    "prop_emo_spam = len(emo_spam) / num_emo * 100\n",
    "\n",
    "print(f'The proposition of spam comments containing emoji is: {prop_emo_spam}%')"
   ]
  },
  {
   "cell_type": "markdown",
   "id": "341bcb1e",
   "metadata": {},
   "source": [
    "We can see that the not a lot of spam comment contains emoji."
   ]
  },
  {
   "cell_type": "code",
   "execution_count": 16,
   "id": "69763e22",
   "metadata": {},
   "outputs": [
    {
     "name": "stdout",
     "output_type": "stream",
     "text": [
      ".: 1421\n",
      "!: 1323\n",
      "/: 952\n",
      ":: 439\n",
      ";: 399\n"
     ]
    }
   ],
   "source": [
    "# Extracting the spam comment and non-spam comment\n",
    "spam_comment = pre_data[pre_data['CLASS'] == 1]['CONTENT']\n",
    "non_spam_comment = pre_data[pre_data['CLASS'] == 0]['CONTENT']\n",
    "\n",
    "punctuation_pattern = r'[^\\w\\s]'\n",
    "\n",
    "punc_list = []\n",
    "for comment in spam_comment:\n",
    "    comment = comment.replace('\\ufeff', '') # Removing the Byte Order Mark\n",
    "    punctuations = re.findall(punctuation_pattern, comment)\n",
    "    punc_list.extend(punctuations)\n",
    "\n",
    "punctuation_counts = Counter(punc_list)\n",
    "\n",
    "top_5_punc = punctuation_counts.most_common(5)\n",
    "\n",
    "for x in top_5_punc:\n",
    "    print(f'{x[0]}: {x[1]}')"
   ]
  },
  {
   "cell_type": "markdown",
   "id": "d07a81df",
   "metadata": {},
   "source": [
    "Notice that we have to remove the BOM becuase it is a issue I observed when I count the punctuations, it is included as a part of a punctuation. It is esstially a marker python uses when encoding the files including csv. This issue often arises when reading the csv file. So, we need to remove it, it does not impact the file anyway."
   ]
  },
  {
   "cell_type": "markdown",
   "id": "8a53cd79",
   "metadata": {},
   "source": [
    "We can see that the most common punctuations in spam comments is ., !, /, :, ;. And /, :, ; are likely to be the punctuations in the URL."
   ]
  },
  {
   "cell_type": "code",
   "execution_count": 17,
   "id": "5fe97aef",
   "metadata": {},
   "outputs": [],
   "source": [
    "# Define whether the comment contains top spam punctuations\n",
    "def contains_punc(comment):\n",
    "    tokens = comment.lower().split(' ')\n",
    "    return any(word in top_5_punc for word in tokens)\n",
    "\n",
    "pre_data['Contains_punc'] = pre_data['CONTENT'].apply(contains_punc)"
   ]
  },
  {
   "cell_type": "code",
   "execution_count": 18,
   "id": "49ac2d9b",
   "metadata": {},
   "outputs": [
    {
     "name": "stderr",
     "output_type": "stream",
     "text": [
      "[nltk_data] Downloading package stopwords to /opt/conda/nltk_data...\n",
      "[nltk_data]   Package stopwords is already up-to-date!\n",
      "[nltk_data] Downloading package punkt to /opt/conda/nltk_data...\n",
      "[nltk_data]   Package punkt is already up-to-date!\n",
      "[nltk_data] Downloading package wordnet to /opt/conda/nltk_data...\n",
      "[nltk_data]   Package wordnet is already up-to-date!\n",
      "[nltk_data] Downloading package omw-1.4 to /opt/conda/nltk_data...\n",
      "[nltk_data]   Package omw-1.4 is already up-to-date!\n"
     ]
    },
    {
     "data": {
      "text/plain": [
       "True"
      ]
     },
     "execution_count": 18,
     "metadata": {},
     "output_type": "execute_result"
    }
   ],
   "source": [
    "# loading the necessary modules\n",
    "import nltk # Natural language toolkit\n",
    "from nltk.corpus import stopwords # Importing common stopwords\n",
    "from nltk.tokenize import word_tokenize # Import tokenizer\n",
    "from nltk.stem import WordNetLemmatizer # Import lemmatizer\n",
    "\n",
    "# Download necessary module resources\n",
    "nltk.download('stopwords') # Download stopwords database\n",
    "nltk.download('punkt') # Download Punkt tokenizer\n",
    "nltk.download('wordnet') # Enable the WordNetLemmatizer by downloading WordNet database\n",
    "nltk.download('omw-1.4') # A additional database"
   ]
  },
  {
   "cell_type": "code",
   "execution_count": 19,
   "id": "090a85ec",
   "metadata": {},
   "outputs": [],
   "source": [
    "lemmatizer = WordNetLemmatizer()\n",
    "\n",
    "# Building the text cleaning function and tokenization\n",
    "def clean_text(text):\n",
    "    # Step 1: Remove URLs\n",
    "    text = re.sub(r'http[s]?://\\S+|www\\.\\S+', '', text)\n",
    "    \n",
    "    # Step 2: Remove emojis\n",
    "    text = emoji.replace_emoji(text, replace=\"\")\n",
    "    \n",
    "    # Step 3: Convert to lowercase\n",
    "    text = text.lower()\n",
    "    \n",
    "    # Step 4: Remove punctuation\n",
    "    text = re.sub(r'[^\\w\\s]', '', text)\n",
    "    \n",
    "    # Step 5: Tokenize\n",
    "    token = word_tokenize(text)\n",
    "    \n",
    "    # Step 6: Remove stopwords\n",
    "    token = [word for word in token if word not in stopwords.words('english')]\n",
    "    \n",
    "    # Step 7: Lemmatize\n",
    "    token = [lemmatizer.lemmatize(word) for word in token]\n",
    "    \n",
    "    return token"
   ]
  },
  {
   "cell_type": "code",
   "execution_count": 20,
   "id": "a3edeb47",
   "metadata": {},
   "outputs": [
    {
     "name": "stdout",
     "output_type": "stream",
     "text": [
      "check: 404\n",
      "video: 198\n",
      "please: 159\n",
      "subscribe: 157\n",
      "youtube: 137\n"
     ]
    }
   ],
   "source": [
    "# Count top 5 most commonly used words in spam comment\n",
    "all_tokens = []\n",
    "for comment in spam_comment:\n",
    "    token = clean_text(comment)\n",
    "    for x in token:\n",
    "        all_tokens.append(x)\n",
    "\n",
    "top_5_words = Counter(all_tokens).most_common(5)\n",
    "\n",
    "for x in top_5_words:\n",
    "    print(f'{x[0]}: {x[1]}')"
   ]
  },
  {
   "cell_type": "markdown",
   "id": "b544c342",
   "metadata": {},
   "source": [
    "Here, we can see the 5 most common words used in the spam comments."
   ]
  },
  {
   "cell_type": "code",
   "execution_count": 21,
   "id": "f2bf7ff4",
   "metadata": {},
   "outputs": [],
   "source": [
    "# Function to check if a comment contain those top used spam words\n",
    "def contains_words(comment):\n",
    "    tokens = clean_text(comment)\n",
    "    return any(word in tokens for word in top_5_words)\n",
    "\n",
    "pre_data['Contains_words'] = pre_data['CONTENT'].apply(contains_words)"
   ]
  },
  {
   "cell_type": "markdown",
   "id": "b9005bad",
   "metadata": {},
   "source": [
    "### Explore VIDEO_NAME colume"
   ]
  },
  {
   "cell_type": "code",
   "execution_count": 22,
   "id": "9fde54fb",
   "metadata": {},
   "outputs": [
    {
     "data": {
      "text/plain": [
       "5"
      ]
     },
     "execution_count": 22,
     "metadata": {},
     "output_type": "execute_result"
    }
   ],
   "source": [
    "# Count the number of unique videos in the data set\n",
    "pre_data['VIDEO_NAME'].nunique()"
   ]
  },
  {
   "cell_type": "markdown",
   "id": "8bd1874b",
   "metadata": {},
   "source": [
    "We can see there are 5 unique videos in the the data set."
   ]
  },
  {
   "cell_type": "code",
   "execution_count": 23,
   "id": "b113bd6e",
   "metadata": {},
   "outputs": [
    {
     "data": {
      "image/png": "[encoded data removed]",
      "text/plain": [
       "<Figure size 1200x600 with 1 Axes>"
      ]
     },
     "metadata": {},
     "output_type": "display_data"
    }
   ],
   "source": [
    "# Visualize the composition of comments of the videos\n",
    "vid_comment = pre_data['VIDEO_NAME'].value_counts()\n",
    "spam_vid_comment = filtered_data['VIDEO_NAME'].value_counts()\n",
    "\n",
    "total_vid_comment = pd.DataFrame({\n",
    "    'Total comments of a video': vid_comment,\n",
    "    'Total spam comment of a video': spam_vid_comment\n",
    "})\n",
    "\n",
    "total_vid_comment.plot(kind='bar', figsize=(12, 6), stacked=True)\n",
    "\n",
    "plt.title(\"Number of comments by video\")\n",
    "plt.xlabel(\"Video name\")\n",
    "plt.ylabel(\"Comment counts\")\n",
    "plt.show()"
   ]
  },
  {
   "cell_type": "markdown",
   "id": "357118f4",
   "metadata": {},
   "source": [
    "### Explore CLASS colume"
   ]
  },
  {
   "cell_type": "code",
   "execution_count": 24,
   "id": "3866d914",
   "metadata": {},
   "outputs": [
    {
     "name": "stdout",
     "output_type": "stream",
     "text": [
      "The proposition of spam comment is: 51.86267348429511%\n"
     ]
    }
   ],
   "source": [
    "num_comment = pre_data.shape[0]\n",
    "\n",
    "num_spam = len(spam_comment)\n",
    "\n",
    "prop_spam = len(spam_comment) / pre_data.shape[0] * 100\n",
    "\n",
    "print(f'The proposition of spam comment is: {prop_spam}%')"
   ]
  },
  {
   "cell_type": "markdown",
   "id": "27b9cbdd",
   "metadata": {},
   "source": [
    "we can see that slightly over half of the comments are spam comments."
   ]
  },
  {
   "cell_type": "markdown",
   "id": "339c3e5a",
   "metadata": {},
   "source": [
    "# Feature selection"
   ]
  },
  {
   "cell_type": "markdown",
   "id": "b36506d1",
   "metadata": {},
   "source": [
    "## Intuitive feature selection\n",
    "\n",
    "From the initial data set, we have 6 columes. And in the previous sections, we have created more columns according to the properties of the data set."
   ]
  },
  {
   "cell_type": "code",
   "execution_count": 25,
   "id": "3ff08f62",
   "metadata": {},
   "outputs": [
    {
     "name": "stdout",
     "output_type": "stream",
     "text": [
      "Colume name: COMMENT_ID\n",
      "Colume name: AUTHOR\n",
      "Colume name: DATE\n",
      "Colume name: CONTENT\n",
      "Colume name: VIDEO_NAME\n",
      "Colume name: CLASS\n",
      "Colume name: Contains_url\n",
      "Colume name: Contains_emo\n",
      "Colume name: Contains_punc\n",
      "Colume name: Contains_words\n"
     ]
    }
   ],
   "source": [
    "# Showing all columes we have in the dataset so far.\n",
    "\n",
    "colnam = pre_data.columns\n",
    "\n",
    "for x in colnam:\n",
    "    print(f'Colume name: {x}')"
   ]
  },
  {
   "cell_type": "code",
   "execution_count": 26,
   "id": "9189718c",
   "metadata": {},
   "outputs": [
    {
     "name": "stdout",
     "output_type": "stream",
     "text": [
      "   COMMENT_ID             AUTHOR                     DATE  \\\n",
      "0           1      Brandon Pryor      2014-01-19 00:36:25   \n",
      "1           2        Chelsea Yun  2015-05-23 07:17:09.691   \n",
      "2           3  Sofia Aristizabal      2014-09-09 00:43:52   \n",
      "3           4     said abdesalam  2015-05-24 07:35:13.754   \n",
      "4           5         crazy girl  2015-05-23 23:26:05.305   \n",
      "\n",
      "                                             CONTENT  \\\n",
      "0  I dont even watch it anymore i just come here ...   \n",
      "1                                        i hate rap﻿   \n",
      "2        I loved, she is amazing.. OMG your eyes*_*﻿   \n",
      "3                                       song is bad﻿   \n",
      "4                                       tension⤴︎⤴︎﻿   \n",
      "\n",
      "                                          VIDEO_NAME  CLASS  Contains_url  \\\n",
      "0                     PSY - GANGNAM STYLE(?????) M/V      0         False   \n",
      "1          Eminem - Love The Way You Lie ft. Rihanna      0         False   \n",
      "2                                  Katy Perry - Roar      0         False   \n",
      "3          Eminem - Love The Way You Lie ft. Rihanna      0         False   \n",
      "4  LMFAO - Party Rock Anthem ft. Lauren Bennett, ...      0         False   \n",
      "\n",
      "   Contains_emo  Contains_punc  Contains_words  \n",
      "0         False          False           False  \n",
      "1         False          False           False  \n",
      "2         False          False           False  \n",
      "3         False          False           False  \n",
      "4          True          False           False  \n"
     ]
    }
   ],
   "source": [
    "print(pre_data.head())"
   ]
  },
  {
   "cell_type": "markdown",
   "id": "d279bfe8",
   "metadata": {},
   "source": [
    "Here we added four new variables:\n",
    "* Contains_url determines whether the comment contains a url\n",
    "* Contains_emo determines whether the comment contains emojis\n",
    "* Contains_punc determine whether the comment uses commonly spam punctuations\n",
    "* Contains_words determine whether the commnent uses commonly spam words"
   ]
  },
  {
   "cell_type": "markdown",
   "id": "86b13bb9",
   "metadata": {},
   "source": [
    "Intuitively, the predictors used in the any learning model construction should be features that indicate whether a comment is a spam or not statistically. \n",
    "\n",
    "Thus, the date of the comment posted and the index of the comment is logically irrelavent to the classification of the comment. Thus, we will not consider these two columes from the data, and since the only NAs exists among dates, we do not need to clean the data."
   ]
  },
  {
   "cell_type": "markdown",
   "id": "881e46cc",
   "metadata": {},
   "source": [
    "## Forward stepwise selection "
   ]
  },
  {
   "cell_type": "markdown",
   "id": "96614c20",
   "metadata": {
    "slideshow": {
     "slide_type": "slide"
    }
   },
   "source": [
    "We will use forward stepwise selection to select the best performing features, and for the model, we will use random forest as model.\n",
    "\n",
    "Our general approach is first vectorizing the comment colume, and use Contains_url, Contains_emo, Contains_punc, and Contains_words as additional predictors. In order for this to work, we will need to combine the vectorized comment with those additional predictors in data frame format. \n",
    "\n",
    "Notice that we didn't use the SequentialFeatureSelector since this algorithm will loop over the data frame we provided, and in our data frame, each colume is not necessarily a individual predictor. Thus, I have written a adjusted forward algorithm by hand that should perform the same as the module version of the forward selection.\n",
    "\n",
    "Best subset selection is not used becuase it is too consuming."
   ]
  },
  {
   "cell_type": "code",
   "execution_count": 27,
   "id": "3bf9a1a1",
   "metadata": {},
   "outputs": [
    {
     "name": "stderr",
     "output_type": "stream",
     "text": [
      "/opt/conda/lib/python3.11/site-packages/h5py/__init__.py:36: UserWarning: h5py is running against HDF5 1.14.3 when it was built against 1.14.2, this may cause problems\n",
      "  _warn((\"h5py is running against HDF5 {0} when it was built against {1}, \"\n"
     ]
    }
   ],
   "source": [
    "# Load the necessary modules\n",
    "import spacy\n",
    "from sklearn.feature_extraction.text import TfidfVectorizer\n",
    "\n",
    "# Vectorizing the text data in the data set\n",
    "pre_data['text_data'] = pre_data['CONTENT']\n",
    "\n",
    "vectorizer = TfidfVectorizer()\n",
    "\n",
    "tfidf_matrix = vectorizer.fit_transform(pre_data['text_data'])\n",
    "tfidf_features = pd.DataFrame(tfidf_matrix.toarray(), columns=vectorizer.get_feature_names_out())"
   ]
  },
  {
   "cell_type": "code",
   "execution_count": 28,
   "id": "8038db13",
   "metadata": {},
   "outputs": [],
   "source": [
    "# Load the necessary modules\n",
    "from sklearn.model_selection import train_test_split\n",
    "from sklearn.ensemble import RandomForestClassifier\n",
    "from sklearn.metrics import accuracy_score\n",
    "\n",
    "# Define all possible predictors, we use dictionary becuase it is easier to present the final feature\n",
    "all_predictors = {\n",
    "    'Content colume': tfidf_features,\n",
    "    'Contains_url colume': pre_data[['Contains_url']],\n",
    "    'Contains_emo colume': pre_data[['Contains_emo']],\n",
    "    'Contains_punc colume': pre_data[['Contains_punc']],\n",
    "    'Contains_words colume': pre_data[['Contains_words']]\n",
    "}\n",
    "\n",
    "# Define the response variable\n",
    "response = pre_data['CLASS']\n",
    "\n",
    "# Define unused predictors\n",
    "unused_predictors = list(all_predictors.keys())\n",
    "\n",
    "# Initialization\n",
    "selected_predictors = []\n",
    "best_accuracy = 0\n",
    "\n",
    "# The adjusted forward stepwise selection\n",
    "while unused_predictors:\n",
    "    temp_best_accuracy = 0\n",
    "    temp_best_predictor = None\n",
    "\n",
    "    for index in unused_predictors:\n",
    "        model = RandomForestClassifier(bootstrap = True, random_state = 123)\n",
    "\n",
    "        temp_predictors = pd.concat([all_predictors[x] for x in selected_predictors + [index]], axis = 1)\n",
    "        \n",
    "        x_train, x_test, y_train, y_test = train_test_split(temp_predictors, response, test_size = 0.3, random_state = 123)\n",
    "\n",
    "        model.fit(x_train, y_train)\n",
    "\n",
    "        y_prediction = model.predict(x_test)\n",
    "\n",
    "        accuracy = accuracy_score(y_test, y_prediction)\n",
    "\n",
    "        if temp_best_accuracy < accuracy:\n",
    "            temp_best_accuracy = accuracy\n",
    "            temp_best_predictor = index\n",
    "\n",
    "    if temp_best_predictor != None and best_accuracy < temp_best_accuracy:\n",
    "        selected_predictors.append(temp_best_predictor)\n",
    "        unused_predictors.remove(temp_best_predictor)\n",
    "        best_accuracy = temp_best_accuracy\n",
    "    else:\n",
    "        break"
   ]
  },
  {
   "cell_type": "code",
   "execution_count": 29,
   "id": "b4e63190",
   "metadata": {},
   "outputs": [
    {
     "data": {
      "text/plain": [
       "['Content colume']"
      ]
     },
     "execution_count": 29,
     "metadata": {},
     "output_type": "execute_result"
    }
   ],
   "source": [
    "selected_predictors"
   ]
  },
  {
   "cell_type": "code",
   "execution_count": 30,
   "id": "c994fc7a",
   "metadata": {},
   "outputs": [
    {
     "data": {
      "text/plain": [
       "0.9610705596107056"
      ]
     },
     "execution_count": 30,
     "metadata": {},
     "output_type": "execute_result"
    }
   ],
   "source": [
    "best_accuracy"
   ]
  },
  {
   "cell_type": "markdown",
   "id": "c5511b30",
   "metadata": {},
   "source": [
    "## Investigate the behavior of the model and its relavent statistics"
   ]
  },
  {
   "cell_type": "markdown",
   "id": "6abc6b31",
   "metadata": {},
   "source": [
    "Here, we can see that our algorithm has selected CONTENT colume to be the predictor in the model. And the validation set approach give us a estimated accuracy of about 96%, which is very high. We will investigate the behavior of the model more closely.\n",
    "\n",
    "Notice that x_train, x_test, y_train, and y_test does not change as long as the random state "
   ]
  },
  {
   "cell_type": "code",
   "execution_count": 31,
   "id": "c7c485a2",
   "metadata": {},
   "outputs": [],
   "source": [
    "# Investigate the preliminary model\n",
    "final_predictors = pd.concat([all_predictors[x] for x in selected_predictors], axis=1)\n",
    "\n",
    "x_train, x_test, y_train, y_test = train_test_split(final_predictors, response, test_size=0.3, random_state=123)\n",
    "\n",
    "pre_model = RandomForestClassifier(bootstrap=True, random_state=123)\n",
    "\n",
    "pre_model.fit(x_train, y_train)\n",
    "\n",
    "y_prediction = pre_model.predict(x_test)"
   ]
  },
  {
   "cell_type": "code",
   "execution_count": 32,
   "id": "d4f3989d",
   "metadata": {},
   "outputs": [
    {
     "data": {
      "text/plain": [
       "0.9610705596107056"
      ]
     },
     "execution_count": 32,
     "metadata": {},
     "output_type": "execute_result"
    }
   ],
   "source": [
    "# Investigate the accuracy score\n",
    "accuracy_score(y_test, y_prediction)"
   ]
  },
  {
   "cell_type": "markdown",
   "id": "1d07eb1b",
   "metadata": {},
   "source": [
    "The accuracy is same as before, which is what we expected."
   ]
  },
  {
   "cell_type": "code",
   "execution_count": 33,
   "id": "f99c76dd",
   "metadata": {},
   "outputs": [
    {
     "name": "stdout",
     "output_type": "stream",
     "text": [
      "              precision    recall  f1-score   support\n",
      "\n",
      "           0       0.94      0.98      0.96       200\n",
      "           1       0.98      0.94      0.96       211\n",
      "\n",
      "    accuracy                           0.96       411\n",
      "   macro avg       0.96      0.96      0.96       411\n",
      "weighted avg       0.96      0.96      0.96       411\n",
      "\n"
     ]
    }
   ],
   "source": [
    "# Load the necessary package\n",
    "from sklearn.metrics import classification_report\n",
    "\n",
    "# Investigate F1 score\n",
    "print(classification_report(y_test,y_prediction)) "
   ]
  },
  {
   "cell_type": "markdown",
   "id": "a49f962b",
   "metadata": {},
   "source": [
    "For class 0:\n",
    "1. precision of 94% means 94% of the predicted data of class 0 is correct.\n",
    "2. recall of 98% means 98% of the data of class 0 is correctly predicted.\n",
    "3. Both precision and recall are relatively high, this means the model is working.\n",
    "4. a 96% f1 score is good since it is relatively high.\n",
    "\n",
    "For class 1:\n",
    "1. precision of 98% means 98% of the predicted data of class 1 is correct.\n",
    "2. recall of 94% means 94% of the data of class 1 is correctly predicted.\n",
    "3. Both precision and recall are relatively high, this means the model is working.\n",
    "4. a 96% f1 score is good since it is relatively high.\n",
    "\n",
    "And just as we see before, the overall accuracy is 96%."
   ]
  },
  {
   "cell_type": "code",
   "execution_count": 34,
   "id": "20da889d",
   "metadata": {},
   "outputs": [
    {
     "data": {
      "image/png": "[encoded data removed]",
      "text/plain": [
       "<Figure size 640x480 with 2 Axes>"
      ]
     },
     "metadata": {},
     "output_type": "display_data"
    }
   ],
   "source": [
    "# Load the necessary module\n",
    "from sklearn import metrics\n",
    "from sklearn.metrics import confusion_matrix\n",
    "\n",
    "# Investigate the confusion matrix\n",
    "conf_matrix = confusion_matrix(y_test, y_prediction)\n",
    "cm_display = metrics.ConfusionMatrixDisplay(confusion_matrix = conf_matrix)\n",
    "cm_display.plot()\n",
    "plt.show()"
   ]
  },
  {
   "cell_type": "markdown",
   "id": "02882044",
   "metadata": {},
   "source": [
    "Here, we see that number of false positive and false negative are relatively small. This also means our model is effective."
   ]
  },
  {
   "cell_type": "code",
   "execution_count": 35,
   "id": "5bea2629",
   "metadata": {},
   "outputs": [
    {
     "data": {
      "image/png": "[encoded data removed]",
      "text/plain": [
       "<Figure size 640x480 with 1 Axes>"
      ]
     },
     "metadata": {},
     "output_type": "display_data"
    }
   ],
   "source": [
    "# Load the necessary package\n",
    "from sklearn.metrics import roc_curve, auc\n",
    "\n",
    "# ROC and AUC\n",
    "y_pred_prob = pre_model.predict_proba(x_test)[:, 1]\n",
    "\n",
    "fpr, tpr, thresholds = roc_curve(y_test, y_pred_prob)\n",
    "roc_auc = auc(fpr, tpr)\n",
    "\n",
    "plt.figure()\n",
    "plt.plot(fpr, tpr, label = f'ROC curve with AUC = {roc_auc:.3f}')\n",
    "plt.plot([0, 1], [0, 1], linestyle='--')\n",
    "plt.xlabel('FPR')\n",
    "plt.ylabel('TPR')\n",
    "plt.title('ROC curve')\n",
    "plt.legend(loc = 'lower right')\n",
    "plt.show()"
   ]
  },
  {
   "cell_type": "markdown",
   "id": "b797a0a7",
   "metadata": {},
   "source": [
    "Since the AUC is very close to 1, we conclude that our classifer works very well."
   ]
  },
  {
   "cell_type": "markdown",
   "id": "993ee2f9",
   "metadata": {},
   "source": [
    "# Final model construction"
   ]
  },
  {
   "cell_type": "code",
   "execution_count": 36,
   "id": "becc15b3",
   "metadata": {},
   "outputs": [
    {
     "data": {
      "text/html": [
       "<style>#sk-container-id-1 {color: black;}#sk-container-id-1 pre{padding: 0;}#sk-container-id-1 div.sk-toggleable {background-color: white;}#sk-container-id-1 label.sk-toggleable__label {cursor: pointer;display: block;width: 100%;margin-bottom: 0;padding: 0.3em;box-sizing: border-box;text-align: center;}#sk-container-id-1 label.sk-toggleable__label-arrow:before {content: \"▸\";float: left;margin-right: 0.25em;color: #696969;}#sk-container-id-1 label.sk-toggleable__label-arrow:hover:before {color: black;}#sk-container-id-1 div.sk-estimator:hover label.sk-toggleable__label-arrow:before {color: black;}#sk-container-id-1 div.sk-toggleable__content {max-height: 0;max-width: 0;overflow: hidden;text-align: left;background-color: #f0f8ff;}#sk-container-id-1 div.sk-toggleable__content pre {margin: 0.2em;color: black;border-radius: 0.25em;background-color: #f0f8ff;}#sk-container-id-1 input.sk-toggleable__control:checked~div.sk-toggleable__content {max-height: 200px;max-width: 100%;overflow: auto;}#sk-container-id-1 input.sk-toggleable__control:checked~label.sk-toggleable__label-arrow:before {content: \"▾\";}#sk-container-id-1 div.sk-estimator input.sk-toggleable__control:checked~label.sk-toggleable__label {background-color: #d4ebff;}#sk-container-id-1 div.sk-label input.sk-toggleable__control:checked~label.sk-toggleable__label {background-color: #d4ebff;}#sk-container-id-1 input.sk-hidden--visually {border: 0;clip: rect(1px 1px 1px 1px);clip: rect(1px, 1px, 1px, 1px);height: 1px;margin: -1px;overflow: hidden;padding: 0;position: absolute;width: 1px;}#sk-container-id-1 div.sk-estimator {font-family: monospace;background-color: #f0f8ff;border: 1px dotted black;border-radius: 0.25em;box-sizing: border-box;margin-bottom: 0.5em;}#sk-container-id-1 div.sk-estimator:hover {background-color: #d4ebff;}#sk-container-id-1 div.sk-parallel-item::after {content: \"\";width: 100%;border-bottom: 1px solid gray;flex-grow: 1;}#sk-container-id-1 div.sk-label:hover label.sk-toggleable__label {background-color: #d4ebff;}#sk-container-id-1 div.sk-serial::before {content: \"\";position: absolute;border-left: 1px solid gray;box-sizing: border-box;top: 0;bottom: 0;left: 50%;z-index: 0;}#sk-container-id-1 div.sk-serial {display: flex;flex-direction: column;align-items: center;background-color: white;padding-right: 0.2em;padding-left: 0.2em;position: relative;}#sk-container-id-1 div.sk-item {position: relative;z-index: 1;}#sk-container-id-1 div.sk-parallel {display: flex;align-items: stretch;justify-content: center;background-color: white;position: relative;}#sk-container-id-1 div.sk-item::before, #sk-container-id-1 div.sk-parallel-item::before {content: \"\";position: absolute;border-left: 1px solid gray;box-sizing: border-box;top: 0;bottom: 0;left: 50%;z-index: -1;}#sk-container-id-1 div.sk-parallel-item {display: flex;flex-direction: column;z-index: 1;position: relative;background-color: white;}#sk-container-id-1 div.sk-parallel-item:first-child::after {align-self: flex-end;width: 50%;}#sk-container-id-1 div.sk-parallel-item:last-child::after {align-self: flex-start;width: 50%;}#sk-container-id-1 div.sk-parallel-item:only-child::after {width: 0;}#sk-container-id-1 div.sk-dashed-wrapped {border: 1px dashed gray;margin: 0 0.4em 0.5em 0.4em;box-sizing: border-box;padding-bottom: 0.4em;background-color: white;}#sk-container-id-1 div.sk-label label {font-family: monospace;font-weight: bold;display: inline-block;line-height: 1.2em;}#sk-container-id-1 div.sk-label-container {text-align: center;}#sk-container-id-1 div.sk-container {/* jupyter's `normalize.less` sets `[hidden] { display: none; }` but bootstrap.min.css set `[hidden] { display: none !important; }` so we also need the `!important` here to be able to override the default hidden behavior on the sphinx rendered scikit-learn.org. See: https://github.com/scikit-learn/scikit-learn/issues/21755 */display: inline-block !important;position: relative;}#sk-container-id-1 div.sk-text-repr-fallback {display: none;}</style><div id=\"sk-container-id-1\" class=\"sk-top-container\"><div class=\"sk-text-repr-fallback\"><pre>RandomForestClassifier(random_state=123)</pre><b>In a Jupyter environment, please rerun this cell to show the HTML representation or trust the notebook. <br />On GitHub, the HTML representation is unable to render, please try loading this page with nbviewer.org.</b></div><div class=\"sk-container\" hidden><div class=\"sk-item\"><div class=\"sk-estimator sk-toggleable\"><input class=\"sk-toggleable__control sk-hidden--visually\" id=\"sk-estimator-id-1\" type=\"checkbox\" checked><label for=\"sk-estimator-id-1\" class=\"sk-toggleable__label sk-toggleable__label-arrow\">RandomForestClassifier</label><div class=\"sk-toggleable__content\"><pre>RandomForestClassifier(random_state=123)</pre></div></div></div></div></div>"
      ],
      "text/plain": [
       "RandomForestClassifier(random_state=123)"
      ]
     },
     "execution_count": 36,
     "metadata": {},
     "output_type": "execute_result"
    }
   ],
   "source": [
    "# Constructing final model using the variable selected above\n",
    "final_predictors = pd.concat([all_predictors[x] for x in selected_predictors], axis=1)\n",
    "\n",
    "final_model = RandomForestClassifier(bootstrap=True, random_state=123)\n",
    "\n",
    "final_model.fit(final_predictors, response)"
   ]
  },
  {
   "cell_type": "code",
   "execution_count": 37,
   "id": "fe3b5ac3",
   "metadata": {},
   "outputs": [],
   "source": [
    "# Output the file for kaggle submission with the final model\n",
    "test_data = pd.read_csv('test.csv')\n",
    "\n",
    "test_data['Contains_url'] = test_data['CONTENT'].apply(contains_url)\n",
    "\n",
    "test_data['Contains_punc'] = test_data['CONTENT'].apply(contains_punc)\n",
    "\n",
    "test_data['Contains_emo'] = test_data['CONTENT'].apply(contains_emoji)\n",
    "\n",
    "test_data['Contains_words'] = test_data['CONTENT'].apply(contains_words)\n",
    "\n",
    "test_tfidf_matrix = vectorizer.transform(test_data['CONTENT'])\n",
    "test_tfidf_features = pd.DataFrame(test_tfidf_matrix.toarray(), columns=vectorizer.get_feature_names_out())\n",
    "\n",
    "all_test_predictors = {\n",
    "    'Content colume': test_tfidf_features,\n",
    "    'Contains_url colume': test_data[['Contains_url']],\n",
    "    'Contains_emo colume': test_data[['Contains_emo']],\n",
    "    'Contains_punc colume': test_data[['Contains_punc']],\n",
    "    'Contains_words colume': test_data[['Contains_words']]\n",
    "}\n",
    "\n",
    "final_test_predictors = pd.concat([all_test_predictors[x] for x in selected_predictors], axis = 1)\n",
    "\n",
    "new_predictions = final_model.predict(final_test_predictors)\n",
    "\n",
    "output = pd.DataFrame({\n",
    "    'COMMENT_ID': test_data['COMMENT_ID'],\n",
    "    'CLASS':new_predictions\n",
    "})\n",
    "\n",
    "output.to_csv('predictions_test_final.csv', index = False)"
   ]
  },
  {
   "cell_type": "markdown",
   "id": "5301f8f6",
   "metadata": {},
   "source": [
    "Using the variables selected above, we can see that the prediction accuracy using validation is about 94.059%, which is very good. "
   ]
  }
 ],
 "metadata": {
  "kernelspec": {
   "display_name": "Python 3 (ipykernel)",
   "language": "python",
   "name": "python3"
  },
  "language_info": {
   "codemirror_mode": {
    "name": "ipython",
    "version": 3
   },
   "file_extension": ".py",
   "mimetype": "text/x-python",
   "name": "python",
   "nbconvert_exporter": "python",
   "pygments_lexer": "ipython3",
   "version": "3.11.6"
  }
 },
 "nbformat": 4,
 "nbformat_minor": 5
}
